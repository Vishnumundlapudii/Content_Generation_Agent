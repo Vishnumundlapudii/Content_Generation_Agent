{
 "cells": [
  {
   "cell_type": "markdown",
   "id": "95fcfafe",
   "metadata": {},
   "source": [
    "# Building Agentic Applications"
   ]
  },
  {
   "cell_type": "code",
   "execution_count": 1,
   "id": "bd18ae2e",
   "metadata": {},
   "outputs": [],
   "source": [
    "# Demo"
   ]
  },
  {
   "cell_type": "markdown",
   "id": "79d842e7",
   "metadata": {},
   "source": [
    "## What is LLM?"
   ]
  },
  {
   "cell_type": "code",
   "execution_count": 2,
   "id": "219e9c18",
   "metadata": {},
   "outputs": [],
   "source": [
    "#! pip install langchain langchain-community langchain-core langchain-openai"
   ]
  },
  {
   "cell_type": "code",
   "execution_count": 1,
   "id": "6ee9eaaf",
   "metadata": {},
   "outputs": [],
   "source": [
    "\n",
    "from langchain_openai import ChatOpenAI\n",
    "import openai\n",
    "from langchain_community.callbacks import get_openai_callback"
   ]
  },
  {
   "cell_type": "code",
   "execution_count": 2,
   "id": "cbd83162",
   "metadata": {},
   "outputs": [],
   "source": [
    "llm_model = ChatOpenAI(temperature=0.0, \n",
    "                        model=\"gpt-4-turbo\",\n",
    "                       openai_api_key=\"XXXX\")"
   ]
  },
  {
   "cell_type": "code",
   "execution_count": 3,
   "id": "dacf3aa5",
   "metadata": {},
   "outputs": [],
   "source": [
    "prompt = \"Who is the first person to step on moon?\""
   ]
  },
  {
   "cell_type": "code",
   "execution_count": 4,
   "id": "2e8c9955",
   "metadata": {},
   "outputs": [],
   "source": [
    "with get_openai_callback() as cb:\n",
    "    response = llm_model.invoke(prompt)"
   ]
  },
  {
   "cell_type": "code",
   "execution_count": 5,
   "id": "4f51cdd0",
   "metadata": {
    "scrolled": true
   },
   "outputs": [
    {
     "data": {
      "text/plain": [
       "AIMessage(content='The first person to step on the Moon was Neil Armstrong. He did so on July 20, 1969, as part of the Apollo 11 mission, famously stating, \"That\\'s one small step for [a] man, one giant leap for mankind.\"', additional_kwargs={'refusal': None}, response_metadata={'token_usage': {'completion_tokens': 55, 'prompt_tokens': 17, 'total_tokens': 72, 'completion_tokens_details': {'accepted_prediction_tokens': 0, 'audio_tokens': 0, 'reasoning_tokens': 0, 'rejected_prediction_tokens': 0}, 'prompt_tokens_details': {'audio_tokens': 0, 'cached_tokens': 0}}, 'model_name': 'gpt-4-turbo-2024-04-09', 'system_fingerprint': 'fp_101a39fff3', 'id': 'chatcmpl-BG8J9ZAkpygpQqwrhWbQZBi9whVhH', 'finish_reason': 'stop', 'logprobs': None}, id='run-dc5d6e18-89ab-4a93-ac39-60f055573915-0', usage_metadata={'input_tokens': 17, 'output_tokens': 55, 'total_tokens': 72, 'input_token_details': {'audio': 0, 'cache_read': 0}, 'output_token_details': {'audio': 0, 'reasoning': 0}})"
      ]
     },
     "execution_count": 5,
     "metadata": {},
     "output_type": "execute_result"
    }
   ],
   "source": [
    "response"
   ]
  },
  {
   "cell_type": "code",
   "execution_count": 6,
   "id": "88ffbf3d",
   "metadata": {},
   "outputs": [
    {
     "data": {
      "text/plain": [
       "'The first person to step on the Moon was Neil Armstrong. He did so on July 20, 1969, as part of the Apollo 11 mission, famously stating, \"That\\'s one small step for [a] man, one giant leap for mankind.\"'"
      ]
     },
     "execution_count": 6,
     "metadata": {},
     "output_type": "execute_result"
    }
   ],
   "source": [
    "response.content"
   ]
  },
  {
   "cell_type": "code",
   "execution_count": 7,
   "id": "a585450d",
   "metadata": {},
   "outputs": [
    {
     "data": {
      "text/plain": [
       "Tokens Used: 72\n",
       "\tPrompt Tokens: 17\n",
       "\tCompletion Tokens: 55\n",
       "Successful Requests: 1\n",
       "Total Cost (USD): $0.00182"
      ]
     },
     "execution_count": 7,
     "metadata": {},
     "output_type": "execute_result"
    }
   ],
   "source": [
    "cb"
   ]
  },
  {
   "cell_type": "markdown",
   "id": "cb63e380",
   "metadata": {
    "heading_collapsed": true
   },
   "source": [
    "## Types of LLM"
   ]
  },
  {
   "cell_type": "markdown",
   "id": "f97e0a80",
   "metadata": {
    "hidden": true
   },
   "source": [
    "- Types of models\n",
    "\n",
    "- Open source vs Closed source models"
   ]
  },
  {
   "cell_type": "markdown",
   "id": "679cb194",
   "metadata": {},
   "source": [
    "## AI Agents "
   ]
  },
  {
   "cell_type": "markdown",
   "id": "19003ad9",
   "metadata": {},
   "source": [
    "- What are Agents?\n",
    "\n",
    "- Why they are gaining much attention over LLMs?"
   ]
  },
  {
   "cell_type": "code",
   "execution_count": 8,
   "id": "6c58c67f",
   "metadata": {},
   "outputs": [],
   "source": [
    "# Any questions so far? Let's move on to the practical session."
   ]
  },
  {
   "cell_type": "markdown",
   "id": "aeabb1cd",
   "metadata": {},
   "source": [
    "### Building the First AI Agent: A Beginner's Guide"
   ]
  },
  {
   "cell_type": "code",
   "execution_count": 9,
   "id": "b6b13677",
   "metadata": {},
   "outputs": [],
   "source": [
    "%%capture --no-stderr\n",
    "%pip install --quiet -U langchain_openai langchain_core langgraph==0.3.21\n",
    "#%pip install git+https://github.com/langchain-ai/langgraph.git\n"
   ]
  },
  {
   "cell_type": "code",
   "execution_count": null,
   "id": "5ae337b7",
   "metadata": {},
   "outputs": [],
   "source": []
  },
  {
   "cell_type": "code",
   "execution_count": 10,
   "id": "718c7bb1",
   "metadata": {},
   "outputs": [],
   "source": [
    "#1. Core components of an AI Agent"
   ]
  },
  {
   "cell_type": "code",
   "execution_count": 11,
   "id": "0629b6fb",
   "metadata": {},
   "outputs": [],
   "source": [
    "from IPython.display import Image, display\n",
    "from langgraph.graph import StateGraph, START, END\n",
    "from typing_extensions import TypedDict\n",
    "import random\n"
   ]
  },
  {
   "cell_type": "code",
   "execution_count": 12,
   "id": "4f2fffa9",
   "metadata": {},
   "outputs": [],
   "source": [
    "class State(TypedDict):\n",
    "    graph_state: str"
   ]
  },
  {
   "cell_type": "code",
   "execution_count": 13,
   "id": "11d7ee27",
   "metadata": {},
   "outputs": [],
   "source": [
    "def node1(state):\n",
    "    print(f\"-----Node1----\")\n",
    "    return {\"graph_state\":state[\"graph_state\"]+ \"I am \"}\n",
    "\n",
    "def node2(state):\n",
    "    print(f\"-----Node2----\")\n",
    "    return {\"graph_state\":state[\"graph_state\"]+ \"Happy \"}\n",
    "\n",
    "def node3(state):\n",
    "    print(f\"-----Node3----\")\n",
    "    return {\"graph_state\":state[\"graph_state\"]+ \"Sad \"}"
   ]
  },
  {
   "cell_type": "code",
   "execution_count": 14,
   "id": "60cb9099",
   "metadata": {},
   "outputs": [],
   "source": [
    "from typing import Literal\n",
    "\n",
    "def deci_take(state)->Literal[\"node2\", \"node3\"]:\n",
    "    \n",
    "    number = random.randint(1, 100)\n",
    "    #print(f\"Number is {number}\")\n",
    "    \n",
    "    return \"node2\" if number % 2 == 0 else \"node3\""
   ]
  },
  {
   "cell_type": "code",
   "execution_count": 15,
   "id": "91a11277",
   "metadata": {},
   "outputs": [
    {
     "data": {
      "text/plain": [
       "<langgraph.graph.state.StateGraph at 0x112c75c10>"
      ]
     },
     "execution_count": 15,
     "metadata": {},
     "output_type": "execute_result"
    }
   ],
   "source": [
    "builder = StateGraph(State)\n",
    "\n",
    "builder.add_node(\"node1\", node1)\n",
    "builder.add_node(\"node2\", node2)\n",
    "builder.add_node(\"node3\", node3)"
   ]
  },
  {
   "cell_type": "code",
   "execution_count": 16,
   "id": "84784e7d",
   "metadata": {},
   "outputs": [
    {
     "data": {
      "text/plain": [
       "<langgraph.graph.state.StateGraph at 0x112c75c10>"
      ]
     },
     "execution_count": 16,
     "metadata": {},
     "output_type": "execute_result"
    }
   ],
   "source": [
    "builder.add_edge(START, \"node1\")\n",
    "builder.add_conditional_edges(\"node1\", deci_take)\n",
    "builder.add_edge(\"node2\", END)\n",
    "builder.add_edge(\"node3\", END)"
   ]
  },
  {
   "cell_type": "code",
   "execution_count": 17,
   "id": "998df1f5",
   "metadata": {},
   "outputs": [],
   "source": [
    "graph = builder.compile()"
   ]
  },
  {
   "cell_type": "code",
   "execution_count": 18,
   "id": "62238171",
   "metadata": {},
   "outputs": [
    {
     "data": {
      "image/png": "[encoded data removed]",
      "text/plain": [
       "<IPython.core.display.Image object>"
      ]
     },
     "metadata": {},
     "output_type": "display_data"
    }
   ],
   "source": [
    "display(Image(graph.get_graph().draw_mermaid_png()))"
   ]
  },
  {
   "cell_type": "code",
   "execution_count": 19,
   "id": "89ddb0f5",
   "metadata": {},
   "outputs": [
    {
     "name": "stdout",
     "output_type": "stream",
     "text": [
      "-----Node1----\n",
      "-----Node3----\n"
     ]
    },
    {
     "data": {
      "text/plain": [
       "{'graph_state': 'Hi, this is Lance.I am Sad '}"
      ]
     },
     "execution_count": 19,
     "metadata": {},
     "output_type": "execute_result"
    }
   ],
   "source": [
    "graph.invoke({\"graph_state\" : \"Hi, this is Lance.\"})"
   ]
  },
  {
   "cell_type": "code",
   "execution_count": null,
   "id": "7da49e92",
   "metadata": {},
   "outputs": [],
   "source": []
  },
  {
   "cell_type": "code",
   "execution_count": 20,
   "id": "26f26ab3",
   "metadata": {},
   "outputs": [],
   "source": [
    "# 2. Building tools and binding with LLM"
   ]
  },
  {
   "cell_type": "code",
   "execution_count": 21,
   "id": "504e0286",
   "metadata": {},
   "outputs": [
    {
     "data": {
      "text/plain": [
       "ChatOpenAI(client=<openai.resources.chat.completions.completions.Completions object at 0x1122d0f10>, async_client=<openai.resources.chat.completions.completions.AsyncCompletions object at 0x112176290>, root_client=<openai.OpenAI object at 0x111678850>, root_async_client=<openai.AsyncOpenAI object at 0x1122d3790>, model_name='gpt-4-turbo', temperature=0.0, model_kwargs={}, openai_api_key=SecretStr('**********'))"
      ]
     },
     "execution_count": 21,
     "metadata": {},
     "output_type": "execute_result"
    }
   ],
   "source": [
    "llm_model"
   ]
  },
  {
   "cell_type": "code",
   "execution_count": 22,
   "id": "9a35e856",
   "metadata": {},
   "outputs": [],
   "source": [
    "res = llm_model.invoke(\"What are AI Agents\")"
   ]
  },
  {
   "cell_type": "code",
   "execution_count": null,
   "id": "b085c5a7",
   "metadata": {},
   "outputs": [],
   "source": []
  },
  {
   "cell_type": "code",
   "execution_count": 40,
   "id": "efa7b77a",
   "metadata": {},
   "outputs": [],
   "source": [
    "from langchain_core.tools import tool\n",
    "from langchain_core.messages import HumanMessage, AIMessage\n",
    "from langchain_openai import ChatOpenAI\n",
    "from langgraph.graph import StateGraph, START, END\n",
    "\n",
    "\n",
    "\n",
    "\n",
    "# @tool\n",
    "# def multiply(a: int, b: int) -> int:\n",
    "#     \"\"\"Multiply two numbers.\"\"\"\n",
    "#     return a * b\n",
    "\n",
    "\n",
    "# llm_with_tools = llm_model.bind_tools([multiply])\n",
    "\n",
    "@tool\n",
    "def multiply(a: int, b: int) -> int:\n",
    "    \"\"\"Multiply two numbers.\"\"\"\n",
    "    return a * b\n",
    "\n",
    "@tool\n",
    "def add(a: int, b: int) -> int:\n",
    "    \"\"\"add two numbers.\"\"\"\n",
    "    return a + b\n",
    "\n",
    "tools_map = {\n",
    "    \"multiply\": multiply,\n",
    "    \"add\": add\n",
    "}\n",
    "\n"
   ]
  },
  {
   "cell_type": "code",
   "execution_count": 43,
   "id": "6f11ebd9",
   "metadata": {},
   "outputs": [],
   "source": [
    "\n",
    "llm_with_tools = llm_model.bind_tools(list(tools_map.values()))"
   ]
  },
  {
   "cell_type": "code",
   "execution_count": null,
   "id": "df1e7a64",
   "metadata": {},
   "outputs": [],
   "source": []
  },
  {
   "cell_type": "code",
   "execution_count": 44,
   "id": "be44609c",
   "metadata": {},
   "outputs": [],
   "source": [
    "\n",
    "\n",
    "def llm_node(state: dict) -> dict:\n",
    "    messages = state.get(\"messages\", [])\n",
    "    response = llm_with_tools.invoke(messages)\n",
    "    updated_state = {\"messages\": messages + [response]}\n",
    "\n",
    "    if response.tool_calls:\n",
    "        for tool_call in response.tool_calls:\n",
    "            name = tool_call[\"name\"]\n",
    "            args = tool_call[\"args\"]\n",
    "            tool = tools_map.get(name)\n",
    "            if tool:\n",
    "                result = tool.invoke(args)\n",
    "                updated_state[\"messages\"].append(AIMessage(content=str(result)))\n",
    "                updated_state[\"result\"] = result\n",
    "            else:\n",
    "                updated_state[\"messages\"].append(AIMessage(content=f\"Unknown tool: {name}\"))\n",
    "\n",
    "    return updated_state\n"
   ]
  },
  {
   "cell_type": "code",
   "execution_count": 45,
   "id": "1207b5a4",
   "metadata": {},
   "outputs": [],
   "source": [
    "from langgraph.graph import StateGraph, START, END\n",
    "\n",
    "builder = StateGraph(dict)\n",
    "builder.set_entry_point(\"llm_node\")\n",
    "builder.add_node(\"llm_node\", llm_node)\n",
    "builder.add_edge(\"llm_node\", END)\n",
    "\n",
    "graph = builder.compile()"
   ]
  },
  {
   "cell_type": "code",
   "execution_count": 46,
   "id": "0312a057",
   "metadata": {},
   "outputs": [
    {
     "data": {
      "image/png": "[encoded data removed]",
      "text/plain": [
       "<langgraph.graph.state.CompiledStateGraph object at 0x114f76650>"
      ]
     },
     "execution_count": 46,
     "metadata": {},
     "output_type": "execute_result"
    }
   ],
   "source": [
    "graph"
   ]
  },
  {
   "cell_type": "code",
   "execution_count": null,
   "id": "60c98125",
   "metadata": {},
   "outputs": [],
   "source": []
  },
  {
   "cell_type": "code",
   "execution_count": 49,
   "id": "50ab4a22",
   "metadata": {},
   "outputs": [],
   "source": [
    "input_state = {\n",
    "    \"messages\": [HumanMessage(content=\"What is 5 times 9?\")]\n",
    "}\n",
    "\n",
    "result = graph.invoke(input_state)\n"
   ]
  },
  {
   "cell_type": "code",
   "execution_count": 50,
   "id": "442d6141",
   "metadata": {},
   "outputs": [
    {
     "name": "stdout",
     "output_type": "stream",
     "text": [
      "How are you?\n",
      "I'm just a computer program, so I don't have feelings, but thanks for asking! How can I assist you today?\n"
     ]
    }
   ],
   "source": [
    "for msg in result[\"messages\"]:\n",
    "    print(msg.content)"
   ]
  },
  {
   "cell_type": "code",
   "execution_count": null,
   "id": "cab2681c",
   "metadata": {},
   "outputs": [],
   "source": []
  },
  {
   "cell_type": "code",
   "execution_count": 12,
   "id": "d2b0cc33",
   "metadata": {},
   "outputs": [],
   "source": [
    "# Any questions"
   ]
  },
  {
   "cell_type": "markdown",
   "id": "1b75d3e9",
   "metadata": {},
   "source": [
    "## Real world usecase- Content Generation"
   ]
  },
  {
   "cell_type": "code",
   "execution_count": 9,
   "id": "e4c5bb7a",
   "metadata": {},
   "outputs": [],
   "source": [
    "# Explain the flow and give code walk through"
   ]
  },
  {
   "cell_type": "code",
   "execution_count": 32,
   "id": "185482be",
   "metadata": {},
   "outputs": [],
   "source": [
    "# final demo and explain them "
   ]
  },
  {
   "cell_type": "code",
   "execution_count": 33,
   "id": "3074641a",
   "metadata": {},
   "outputs": [],
   "source": [
    "# Show about the github code repositiry"
   ]
  },
  {
   "cell_type": "code",
   "execution_count": null,
   "id": "74feffda",
   "metadata": {},
   "outputs": [],
   "source": []
  },
  {
   "cell_type": "code",
   "execution_count": null,
   "id": "6e1542f3",
   "metadata": {},
   "outputs": [],
   "source": []
  },
  {
   "cell_type": "code",
   "execution_count": null,
   "id": "21d70d01",
   "metadata": {},
   "outputs": [],
   "source": []
  },
  {
   "cell_type": "markdown",
   "id": "b715d8ee",
   "metadata": {
    "heading_collapsed": true
   },
   "source": [
    "## Assignment"
   ]
  },
  {
   "cell_type": "code",
   "execution_count": 15,
   "id": "cfeed8a0",
   "metadata": {
    "hidden": true
   },
   "outputs": [],
   "source": [
    "# Explain them workflow vs Agentic applications"
   ]
  },
  {
   "cell_type": "code",
   "execution_count": 16,
   "id": "a167980e",
   "metadata": {
    "hidden": true
   },
   "outputs": [],
   "source": [
    "# Give the assignment of agentic work"
   ]
  },
  {
   "cell_type": "code",
   "execution_count": 17,
   "id": "6cbb17c9",
   "metadata": {
    "hidden": true
   },
   "outputs": [],
   "source": [
    "# Show the LinkedIn and github profile"
   ]
  },
  {
   "cell_type": "code",
   "execution_count": 18,
   "id": "cfe58aaa",
   "metadata": {
    "hidden": true
   },
   "outputs": [],
   "source": [
    "# questioners"
   ]
  },
  {
   "cell_type": "code",
   "execution_count": 19,
   "id": "7c61af31",
   "metadata": {
    "hidden": true
   },
   "outputs": [],
   "source": [
    "# END"
   ]
  },
  {
   "cell_type": "code",
   "execution_count": null,
   "id": "0971b501",
   "metadata": {
    "hidden": true
   },
   "outputs": [],
   "source": []
  }
 ],
 "metadata": {
  "kernelspec": {
   "display_name": "Python 3 (ipykernel)",
   "language": "python",
   "name": "python3"
  },
  "language_info": {
   "codemirror_mode": {
    "name": "ipython",
    "version": 3
   },
   "file_extension": ".py",
   "mimetype": "text/x-python",
   "name": "python",
   "nbconvert_exporter": "python",
   "pygments_lexer": "ipython3",
   "version": "3.11.5"
  }
 },
 "nbformat": 4,
 "nbformat_minor": 5
}
